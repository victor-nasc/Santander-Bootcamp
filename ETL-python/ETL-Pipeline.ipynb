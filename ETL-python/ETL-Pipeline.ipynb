{
 "cells": [
  {
   "cell_type": "markdown",
   "metadata": {
    "id": "BPJQsTCULaC-"
   },
   "source": [
    "# Santander Dev Week 2023 (ETL com Python)"
   ]
  },
  {
   "cell_type": "markdown",
   "metadata": {},
   "source": [
    "### Extract Transform e Load de dados de usuários de um banco\n",
    "\n",
    "- Obtenção dos dados dos clientes através da API da Santander Dev Week 2023\n",
    "- Transformação dos dados a partir da geração de novos atributos\n",
    "- Envio dos dados modificados de volta para API"
   ]
  },
  {
   "cell_type": "code",
   "execution_count": null,
   "metadata": {
    "id": "FKqLC_CWoYqR"
   },
   "outputs": [],
   "source": [
    "# Utilize sua própria URL se quiser ;)\n",
    "# Repositório da API: https://github.com/digitalinnovationone/santander-dev-week-2023-api\n",
    "sdw2023_api_url = 'https://sdw-2023-prd.up.railway.app'"
   ]
  },
  {
   "cell_type": "markdown",
   "metadata": {
    "id": "9dfI-o7gLRq9"
   },
   "source": [
    "## **E**xtract\n",
    "\n",
    "Extraia a lista de IDs de usuário a partir do arquivo CSV. Para cada ID, faça uma requisição GET para obter os dados do usuário correspondente."
   ]
  },
  {
   "cell_type": "code",
   "execution_count": null,
   "metadata": {
    "colab": {
     "base_uri": "https://localhost:8080/"
    },
    "id": "NYydpX_GLRCB",
    "outputId": "8ba4e83d-c14c-4826-d5d8-2fdb0182f194"
   },
   "outputs": [
    {
     "name": "stdout",
     "output_type": "stream",
     "text": [
      "[100, 101, 102, 103]\n"
     ]
    }
   ],
   "source": [
    "import pandas as pd\n",
    "\n",
    "df = pd.read_csv('SDW2023.csv')\n",
    "user_ids = df['UserID'].tolist()\n",
    "print(user_ids)"
   ]
  },
  {
   "cell_type": "code",
   "execution_count": null,
   "metadata": {
    "colab": {
     "base_uri": "https://localhost:8080/"
    },
    "id": "F5XOuCZGSTGw",
    "outputId": "3d0a7d66-466d-469b-b6d8-d9df611289aa",
    "scrolled": false
   },
   "outputs": [
    {
     "name": "stdout",
     "output_type": "stream",
     "text": [
      "[\n",
      "  {\n",
      "    \"id\": 100,\n",
      "    \"name\": \"\\u00cdtalo\",\n",
      "    \"account\": {\n",
      "      \"id\": 107,\n",
      "      \"number\": \"00001-19\",\n",
      "      \"agency\": \"9999\",\n",
      "      \"balance\": 0.0,\n",
      "      \"limit\": 200.0\n",
      "    },\n",
      "    \"card\": {\n",
      "      \"id\": 99,\n",
      "      \"number\": \"**** **** **** 1129\",\n",
      "      \"limit\": 700.0\n",
      "    },\n",
      "    \"features\": [],\n",
      "    \"news\": [\n",
      "      {\n",
      "        \"id\": 420,\n",
      "        \"icon\": \"https://images.genius.com/31fac7e2bef0ff83f25dbd8077863794.1000x1000x1.jpg\",\n",
      "        \"description\": \"Eduardo esteve aqui\"\n",
      "      },\n",
      "      {\n",
      "        \"id\": 421,\n",
      "        \"icon\": \"https://images.genius.com/31fac7e2bef0ff83f25dbd8077863794.1000x1000x1.jpg\",\n",
      "        \"description\": \"Eduardo esteve aqui\"\n",
      "      },\n",
      "      {\n",
      "        \"id\": 1056,\n",
      "        \"icon\": \"https://digitalinnovationone.github.io/santander-dev-week-2023-api/icons/credit.svg\",\n",
      "        \"description\": \"\\u00cdtalo, \\u00e9 claro que o surgimento do com\\u00e9rcio virtual afeta positivamente a correta previs\\u00e3o das formas de a\\u00e7\\u00e3o. \"\n",
      "      },\n",
      "      {\n",
      "        \"id\": 1477,\n",
      "        \"icon\": \"https://digitalinnovationone.github.io/santander-dev-week-2023-api/icons/credit.svg\",\n",
      "        \"description\": \"Invista agora e garanta seu futuro financeiro!\"\n",
      "      },\n",
      "      {\n",
      "        \"id\": 3299,\n",
      "        \"icon\": null,\n",
      "        \"description\": \"Ol\\u00e1 \\u00cdtalo! Invista seu dinheiro com intelig\\u00eancia e conquiste seus objetivos financeiros. Conte com nosso apoio para alcan\\u00e7ar seus sonhos. #InvestimentosBanc\\u00e1rios\"\n",
      "      }\n",
      "    ]\n",
      "  },\n",
      "  {\n",
      "    \"id\": 101,\n",
      "    \"name\": \"Douglas\",\n",
      "    \"account\": {\n",
      "      \"id\": 108,\n",
      "      \"number\": \"00001-20\",\n",
      "      \"agency\": \"9999\",\n",
      "      \"balance\": 0.0,\n",
      "      \"limit\": 100.0\n",
      "    },\n",
      "    \"card\": {\n",
      "      \"id\": 100,\n",
      "      \"number\": \"**** **** **** 1130\",\n",
      "      \"limit\": 600.0\n",
      "    },\n",
      "    \"features\": [],\n",
      "    \"news\": [\n",
      "      {\n",
      "        \"id\": 422,\n",
      "        \"icon\": \"https://images.genius.com/31fac7e2bef0ff83f25dbd8077863794.1000x1000x1.jpg\",\n",
      "        \"description\": \"Eduardo esteve aqui\"\n",
      "      },\n",
      "      {\n",
      "        \"id\": 423,\n",
      "        \"icon\": \"https://images.genius.com/31fac7e2bef0ff83f25dbd8077863794.1000x1000x1.jpg\",\n",
      "        \"description\": \"Eduardo esteve aqui\"\n",
      "      },\n",
      "      {\n",
      "        \"id\": 1057,\n",
      "        \"icon\": \"https://digitalinnovationone.github.io/santander-dev-week-2023-api/icons/credit.svg\",\n",
      "        \"description\": \"Douglas, o incentivo ao avan\\u00e7o tecnol\\u00f3gico, assim como o desafiador cen\\u00e1rio globalizado oferece uma interessante oportunidade para verifica\\u00e7\\u00e3o dos \\u00edndices pretendidos. \"\n",
      "      }\n",
      "    ]\n",
      "  },\n",
      "  {\n",
      "    \"id\": 102,\n",
      "    \"name\": \"Kau\\u00e3\",\n",
      "    \"account\": {\n",
      "      \"id\": 109,\n",
      "      \"number\": \"00001-21\",\n",
      "      \"agency\": \"9999\",\n",
      "      \"balance\": 0.0,\n",
      "      \"limit\": 210.0\n",
      "    },\n",
      "    \"card\": {\n",
      "      \"id\": 101,\n",
      "      \"number\": \"**** **** **** 1131\",\n",
      "      \"limit\": 650.0\n",
      "    },\n",
      "    \"features\": [],\n",
      "    \"news\": [\n",
      "      {\n",
      "        \"id\": 424,\n",
      "        \"icon\": \"https://images.genius.com/31fac7e2bef0ff83f25dbd8077863794.1000x1000x1.jpg\",\n",
      "        \"description\": \"Eduardo esteve aqui\"\n",
      "      },\n",
      "      {\n",
      "        \"id\": 425,\n",
      "        \"icon\": \"https://images.genius.com/31fac7e2bef0ff83f25dbd8077863794.1000x1000x1.jpg\",\n",
      "        \"description\": \"Eduardo esteve aqui\"\n",
      "      },\n",
      "      {\n",
      "        \"id\": 1058,\n",
      "        \"icon\": \"https://digitalinnovationone.github.io/santander-dev-week-2023-api/icons/credit.svg\",\n",
      "        \"description\": \"Kau\\u00e3, n\\u00e3o obstante, o comprometimento entre as equipes exige a precis\\u00e3o e a defini\\u00e7\\u00e3o dos \\u00edndices pretendidos. \"\n",
      "      }\n",
      "    ]\n",
      "  },\n",
      "  {\n",
      "    \"id\": 103,\n",
      "    \"name\": \"Neymar JR\",\n",
      "    \"account\": {\n",
      "      \"id\": 110,\n",
      "      \"number\": \"00001-22\",\n",
      "      \"agency\": \"9999\",\n",
      "      \"balance\": 0.0,\n",
      "      \"limit\": 2200.0\n",
      "    },\n",
      "    \"card\": {\n",
      "      \"id\": 102,\n",
      "      \"number\": \"**** **** **** 1132\",\n",
      "      \"limit\": 9900.0\n",
      "    },\n",
      "    \"features\": [],\n",
      "    \"news\": [\n",
      "      {\n",
      "        \"id\": 426,\n",
      "        \"icon\": \"https://images.genius.com/31fac7e2bef0ff83f25dbd8077863794.1000x1000x1.jpg\",\n",
      "        \"description\": \"Eduardo esteve aqui\"\n",
      "      },\n",
      "      {\n",
      "        \"id\": 427,\n",
      "        \"icon\": \"https://images.genius.com/31fac7e2bef0ff83f25dbd8077863794.1000x1000x1.jpg\",\n",
      "        \"description\": \"Eduardo esteve aqui\"\n",
      "      },\n",
      "      {\n",
      "        \"id\": 1059,\n",
      "        \"icon\": \"https://digitalinnovationone.github.io/santander-dev-week-2023-api/icons/credit.svg\",\n",
      "        \"description\": \"Neymar JR, pensando mais a longo prazo, a percep\\u00e7\\u00e3o das dificuldades nos obriga \\u00e0 an\\u00e1lise das condi\\u00e7\\u00f5es financeiras e administrativas exigidas. \"\n",
      "      }\n",
      "    ]\n",
      "  }\n",
      "]\n"
     ]
    }
   ],
   "source": [
    "import requests\n",
    "import json\n",
    "\n",
    "def get_user(id):\n",
    "  response = requests.get(f'{sdw2023_api_url}/users/{id}')\n",
    "  return response.json() if response.status_code == 200 else None\n",
    "\n",
    "users = [user for id in user_ids if (user := get_user(id)) is not None]\n",
    "print(json.dumps(users, indent=2))"
   ]
  },
  {
   "cell_type": "markdown",
   "metadata": {
    "id": "cWoqInB4TF1x"
   },
   "source": [
    "## **T**ransform\n",
    "\n",
    "Adicionando aos usuários novos atributos\n",
    "- Sobrenome\n",
    "- Idade\n",
    "- CPF"
   ]
  },
  {
   "cell_type": "code",
   "execution_count": null,
   "metadata": {
    "id": "sUB1doiDTX3y"
   },
   "outputs": [],
   "source": [
    "import random\n",
    "\n",
    "def Idade():\n",
    "  return str(random.randint(18, 60))\n",
    "\n",
    "def Sobrenome():\n",
    "    sobrenome = [\"Ribeiro\", \"Nascimento\", \"Oliveira\", \"Souza\", \"Rodrigues\",\n",
    "                 \"Ferreira\", \"Alves\", \"Pereira\", \"Lima\", \"Gonçalves\"]\n",
    "\n",
    "    return str(sobrenome[random.randint(0, len(sobrenome)-1)])\n",
    "\n",
    "def CPF():\n",
    "    cpf = [str(random.randint(0, 9)) for _ in range(11)]\n",
    "    cpf = ''.join(cpf)\n",
    "\n",
    "    return f\"{cpf[:3]}.{cpf[3:6]}.{cpf[6:9]}-{cpf[9:]}\""
   ]
  },
  {
   "cell_type": "code",
   "execution_count": null,
   "metadata": {
    "colab": {
     "base_uri": "https://localhost:8080/"
    },
    "id": "n1w78kNxTrZY",
    "outputId": "d1f3dbca-c6df-4347-f834-8f7e5e667c9a"
   },
   "outputs": [
    {
     "name": "stdout",
     "output_type": "stream",
     "text": [
      "Ítalo Rodrigues, idade:35,  cpf:394.938.439-85\n",
      "Douglas Pereira, idade:27,  cpf:510.053.757-89\n",
      "Kauã Rodrigues, idade:30,  cpf:378.920.127-50\n",
      "Neymar JR Ferreira, idade:45,  cpf:481.154.216-13\n"
     ]
    }
   ],
   "source": [
    "for user in users:\n",
    "  idade = Idade()\n",
    "  sobrenome = Sobrenome()\n",
    "  cpf = CPF()\n",
    "\n",
    "  # api nao permite criar novas celulas\n",
    "  user['features'].append({\n",
    "    \"icon\": \"Sobrenome // Idade // CPF\",\n",
    "    \"description\": f\"{sobrenome} // {idade} // {cpf}\"\n",
    "  })\n",
    "\n",
    "  print(f\"{user['name']} {sobrenome}, idade:{idade},  cpf:{cpf}\")"
   ]
  },
  {
   "cell_type": "markdown",
   "metadata": {
    "id": "kNuP0SDUZMBY"
   },
   "source": [
    "## **L**oad\n",
    "\n",
    "Atualizando a lista de \"news\" de cada usuário na API com a nova mensagem gerada."
   ]
  },
  {
   "cell_type": "code",
   "execution_count": null,
   "metadata": {
    "colab": {
     "base_uri": "https://localhost:8080/"
    },
    "id": "YefWfYBoZMN2",
    "outputId": "b2cc6621-d6f7-4c86-da04-a5adf1698206"
   },
   "outputs": [
    {
     "name": "stdout",
     "output_type": "stream",
     "text": [
      "User Ítalo updated? True!\n",
      "User Douglas updated? True!\n",
      "User Kauã updated? True!\n",
      "User Neymar JR updated? True!\n"
     ]
    }
   ],
   "source": [
    "def update_user(user):\n",
    "  response = requests.put(f\"{sdw2023_api_url}/users/{user['id']}\", json=user)\n",
    "  return True if response.status_code == 200 else False\n",
    "\n",
    "for user in users:\n",
    "  success = update_user(user)\n",
    "  print(f\"User {user['name']} updated? {success}!\")"
   ]
  },
  {
   "cell_type": "code",
   "execution_count": null,
   "metadata": {
    "colab": {
     "base_uri": "https://localhost:8080/"
    },
    "id": "G-j6gnLv4rd2",
    "outputId": "cc437b27-8e53-47d4-dd87-97e84deb8e46"
   },
   "outputs": [
    {
     "name": "stdout",
     "output_type": "stream",
     "text": [
      "[\n",
      "  {\n",
      "    \"id\": 100,\n",
      "    \"name\": \"\\u00cdtalo\",\n",
      "    \"account\": {\n",
      "      \"id\": 107,\n",
      "      \"number\": \"00001-19\",\n",
      "      \"agency\": \"9999\",\n",
      "      \"balance\": 0.0,\n",
      "      \"limit\": 200.0\n",
      "    },\n",
      "    \"card\": {\n",
      "      \"id\": 99,\n",
      "      \"number\": \"**** **** **** 1129\",\n",
      "      \"limit\": 700.0\n",
      "    },\n",
      "    \"features\": [\n",
      "      {\n",
      "        \"id\": 688,\n",
      "        \"icon\": \"Sobrenome // Idade // CPF\",\n",
      "        \"description\": \"Oliveira // 27 // 674.832.789-44\"\n",
      "      }\n",
      "    ],\n",
      "    \"news\": [\n",
      "      {\n",
      "        \"id\": 420,\n",
      "        \"icon\": \"https://images.genius.com/31fac7e2bef0ff83f25dbd8077863794.1000x1000x1.jpg\",\n",
      "        \"description\": \"Eduardo esteve aqui\"\n",
      "      },\n",
      "      {\n",
      "        \"id\": 421,\n",
      "        \"icon\": \"https://images.genius.com/31fac7e2bef0ff83f25dbd8077863794.1000x1000x1.jpg\",\n",
      "        \"description\": \"Eduardo esteve aqui\"\n",
      "      },\n",
      "      {\n",
      "        \"id\": 1056,\n",
      "        \"icon\": \"https://digitalinnovationone.github.io/santander-dev-week-2023-api/icons/credit.svg\",\n",
      "        \"description\": \"\\u00cdtalo, \\u00e9 claro que o surgimento do com\\u00e9rcio virtual afeta positivamente a correta previs\\u00e3o das formas de a\\u00e7\\u00e3o. \"\n",
      "      },\n",
      "      {\n",
      "        \"id\": 1477,\n",
      "        \"icon\": \"https://digitalinnovationone.github.io/santander-dev-week-2023-api/icons/credit.svg\",\n",
      "        \"description\": \"Invista agora e garanta seu futuro financeiro!\"\n",
      "      },\n",
      "      {\n",
      "        \"id\": 3299,\n",
      "        \"icon\": null,\n",
      "        \"description\": \"Ol\\u00e1 \\u00cdtalo! Invista seu dinheiro com intelig\\u00eancia e conquiste seus objetivos financeiros. Conte com nosso apoio para alcan\\u00e7ar seus sonhos. #InvestimentosBanc\\u00e1rios\"\n",
      "      }\n",
      "    ]\n",
      "  },\n",
      "  {\n",
      "    \"id\": 101,\n",
      "    \"name\": \"Douglas\",\n",
      "    \"account\": {\n",
      "      \"id\": 108,\n",
      "      \"number\": \"00001-20\",\n",
      "      \"agency\": \"9999\",\n",
      "      \"balance\": 0.0,\n",
      "      \"limit\": 100.0\n",
      "    },\n",
      "    \"card\": {\n",
      "      \"id\": 100,\n",
      "      \"number\": \"**** **** **** 1130\",\n",
      "      \"limit\": 600.0\n",
      "    },\n",
      "    \"features\": [\n",
      "      {\n",
      "        \"id\": 689,\n",
      "        \"icon\": \"Sobrenome // Idade // CPF\",\n",
      "        \"description\": \"Rodrigues // 37 // 501.762.785-75\"\n",
      "      }\n",
      "    ],\n",
      "    \"news\": [\n",
      "      {\n",
      "        \"id\": 422,\n",
      "        \"icon\": \"https://images.genius.com/31fac7e2bef0ff83f25dbd8077863794.1000x1000x1.jpg\",\n",
      "        \"description\": \"Eduardo esteve aqui\"\n",
      "      },\n",
      "      {\n",
      "        \"id\": 423,\n",
      "        \"icon\": \"https://images.genius.com/31fac7e2bef0ff83f25dbd8077863794.1000x1000x1.jpg\",\n",
      "        \"description\": \"Eduardo esteve aqui\"\n",
      "      },\n",
      "      {\n",
      "        \"id\": 1057,\n",
      "        \"icon\": \"https://digitalinnovationone.github.io/santander-dev-week-2023-api/icons/credit.svg\",\n",
      "        \"description\": \"Douglas, o incentivo ao avan\\u00e7o tecnol\\u00f3gico, assim como o desafiador cen\\u00e1rio globalizado oferece uma interessante oportunidade para verifica\\u00e7\\u00e3o dos \\u00edndices pretendidos. \"\n",
      "      }\n",
      "    ]\n",
      "  },\n",
      "  {\n",
      "    \"id\": 102,\n",
      "    \"name\": \"Kau\\u00e3\",\n",
      "    \"account\": {\n",
      "      \"id\": 109,\n",
      "      \"number\": \"00001-21\",\n",
      "      \"agency\": \"9999\",\n",
      "      \"balance\": 0.0,\n",
      "      \"limit\": 210.0\n",
      "    },\n",
      "    \"card\": {\n",
      "      \"id\": 101,\n",
      "      \"number\": \"**** **** **** 1131\",\n",
      "      \"limit\": 650.0\n",
      "    },\n",
      "    \"features\": [\n",
      "      {\n",
      "        \"id\": 690,\n",
      "        \"icon\": \"Sobrenome // Idade // CPF\",\n",
      "        \"description\": \"Oliveira // 23 // 419.577.550-05\"\n",
      "      }\n",
      "    ],\n",
      "    \"news\": [\n",
      "      {\n",
      "        \"id\": 424,\n",
      "        \"icon\": \"https://images.genius.com/31fac7e2bef0ff83f25dbd8077863794.1000x1000x1.jpg\",\n",
      "        \"description\": \"Eduardo esteve aqui\"\n",
      "      },\n",
      "      {\n",
      "        \"id\": 425,\n",
      "        \"icon\": \"https://images.genius.com/31fac7e2bef0ff83f25dbd8077863794.1000x1000x1.jpg\",\n",
      "        \"description\": \"Eduardo esteve aqui\"\n",
      "      },\n",
      "      {\n",
      "        \"id\": 1058,\n",
      "        \"icon\": \"https://digitalinnovationone.github.io/santander-dev-week-2023-api/icons/credit.svg\",\n",
      "        \"description\": \"Kau\\u00e3, n\\u00e3o obstante, o comprometimento entre as equipes exige a precis\\u00e3o e a defini\\u00e7\\u00e3o dos \\u00edndices pretendidos. \"\n",
      "      }\n",
      "    ]\n",
      "  },\n",
      "  {\n",
      "    \"id\": 103,\n",
      "    \"name\": \"Neymar JR\",\n",
      "    \"account\": {\n",
      "      \"id\": 110,\n",
      "      \"number\": \"00001-22\",\n",
      "      \"agency\": \"9999\",\n",
      "      \"balance\": 0.0,\n",
      "      \"limit\": 2200.0\n",
      "    },\n",
      "    \"card\": {\n",
      "      \"id\": 102,\n",
      "      \"number\": \"**** **** **** 1132\",\n",
      "      \"limit\": 9900.0\n",
      "    },\n",
      "    \"features\": [\n",
      "      {\n",
      "        \"id\": 691,\n",
      "        \"icon\": \"Sobrenome // Idade // CPF\",\n",
      "        \"description\": \"Alves // 26 // 637.397.633-41\"\n",
      "      }\n",
      "    ],\n",
      "    \"news\": [\n",
      "      {\n",
      "        \"id\": 426,\n",
      "        \"icon\": \"https://images.genius.com/31fac7e2bef0ff83f25dbd8077863794.1000x1000x1.jpg\",\n",
      "        \"description\": \"Eduardo esteve aqui\"\n",
      "      },\n",
      "      {\n",
      "        \"id\": 427,\n",
      "        \"icon\": \"https://images.genius.com/31fac7e2bef0ff83f25dbd8077863794.1000x1000x1.jpg\",\n",
      "        \"description\": \"Eduardo esteve aqui\"\n",
      "      },\n",
      "      {\n",
      "        \"id\": 1059,\n",
      "        \"icon\": \"https://digitalinnovationone.github.io/santander-dev-week-2023-api/icons/credit.svg\",\n",
      "        \"description\": \"Neymar JR, pensando mais a longo prazo, a percep\\u00e7\\u00e3o das dificuldades nos obriga \\u00e0 an\\u00e1lise das condi\\u00e7\\u00f5es financeiras e administrativas exigidas. \"\n",
      "      }\n",
      "    ]\n",
      "  }\n",
      "]\n"
     ]
    }
   ],
   "source": [
    "import requests\n",
    "import json\n",
    "\n",
    "def get_user(id):\n",
    "  response = requests.get(f'{sdw2023_api_url}/users/{id}')\n",
    "  return response.json() if response.status_code == 200 else None\n",
    "\n",
    "users = [user for id in user_ids if (user := get_user(id)) is not None]\n",
    "print(json.dumps(users, indent=2))"
   ]
  },
  {
   "cell_type": "code",
   "execution_count": null,
   "metadata": {
    "id": "e1Evkh0M9kTW"
   },
   "outputs": [],
   "source": []
  }
 ],
 "metadata": {
  "colab": {
   "collapsed_sections": [
    "kNuP0SDUZMBY"
   ],
   "provenance": []
  },
  "kernelspec": {
   "display_name": "Python 3 (ipykernel)",
   "language": "python",
   "name": "python3"
  },
  "language_info": {
   "codemirror_mode": {
    "name": "ipython",
    "version": 3
   },
   "file_extension": ".py",
   "mimetype": "text/x-python",
   "name": "python",
   "nbconvert_exporter": "python",
   "pygments_lexer": "ipython3",
   "version": "3.10.9"
  }
 },
 "nbformat": 4,
 "nbformat_minor": 1
}
